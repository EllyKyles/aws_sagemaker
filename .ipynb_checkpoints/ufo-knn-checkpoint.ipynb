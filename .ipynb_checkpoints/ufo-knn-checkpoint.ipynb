{
 "cells": [
  {
   "cell_type": "markdown",
   "metadata": {},
   "source": [
    "# Step1: Uploading ufo data from S3"
   ]
  },
  {
   "cell_type": "code",
   "execution_count": 1,
   "metadata": {},
   "outputs": [],
   "source": [
    "\n",
    "import pandas as pd\n",
    "import numpy as np\n",
    "from datetime import datetime\n",
    "\n",
    "import boto3\n",
    "from sagemaker import get_execution_role\n",
    "import sagemaker.amazon.common as smac"
   ]
  },
  {
   "cell_type": "code",
   "execution_count": 2,
   "metadata": {},
   "outputs": [],
   "source": [
    "\n",
    "role = get_execution_role()\n",
    "bucket = 'ml-lab-ufo-elly'\n",
    "prefix = 'ufo_dataset'\n",
    "data_key = 'ufodata.csv'\n",
    "data_location = 's3://{}/{}/{}'.format(bucket, prefix, data_key)\n",
    "\n",
    "df = pd.read_csv(data_location, low_memory=False)"
   ]
  },
  {
   "cell_type": "code",
   "execution_count": 3,
   "metadata": {
    "jupyter": {
     "source_hidden": true
    }
   },
   "outputs": [],
   "source": [
    "\n",
    "role = get_execution_role()\n",
    "bucket = 'ml-lab-ufo-elly'\n",
    "prefix = 'ufo_dataset'\n",
    "data_key = 'ufodata.csv'\n",
    "data_location = 's3://{}/{}/{}'.format(bucket, prefix, data_key)\n",
    "\n",
    "df = pd.read_csv(data_location, low_memory=False)"
   ]
  },
  {
   "cell_type": "code",
   "execution_count": 4,
   "metadata": {},
   "outputs": [
    {
     "data": {
      "text/html": [
       "<div>\n",
       "<style scoped>\n",
       "    .dataframe tbody tr th:only-of-type {\n",
       "        vertical-align: middle;\n",
       "    }\n",
       "\n",
       "    .dataframe tbody tr th {\n",
       "        vertical-align: top;\n",
       "    }\n",
       "\n",
       "    .dataframe thead th {\n",
       "        text-align: right;\n",
       "    }\n",
       "</style>\n",
       "<table border=\"1\" class=\"dataframe\">\n",
       "  <thead>\n",
       "    <tr style=\"text-align: right;\">\n",
       "      <th></th>\n",
       "      <th>reportedTimestamp</th>\n",
       "      <th>eventDate</th>\n",
       "      <th>eventTime</th>\n",
       "      <th>shape</th>\n",
       "      <th>duration</th>\n",
       "      <th>witnesses</th>\n",
       "      <th>weather</th>\n",
       "      <th>firstName</th>\n",
       "      <th>lastName</th>\n",
       "      <th>latitude</th>\n",
       "      <th>longitude</th>\n",
       "      <th>sighting</th>\n",
       "      <th>physicalEvidence</th>\n",
       "      <th>contact</th>\n",
       "      <th>researchOutcome</th>\n",
       "    </tr>\n",
       "  </thead>\n",
       "  <tbody>\n",
       "    <tr>\n",
       "      <th>0</th>\n",
       "      <td>1977-04-04T04:02:23.340Z</td>\n",
       "      <td>3/31/1977</td>\n",
       "      <td>23:46</td>\n",
       "      <td>circle</td>\n",
       "      <td>4</td>\n",
       "      <td>1</td>\n",
       "      <td>rain</td>\n",
       "      <td>Ila</td>\n",
       "      <td>Bashirian</td>\n",
       "      <td>47.329444</td>\n",
       "      <td>-122.578889</td>\n",
       "      <td>Y</td>\n",
       "      <td>N</td>\n",
       "      <td>N</td>\n",
       "      <td>explained</td>\n",
       "    </tr>\n",
       "    <tr>\n",
       "      <th>1</th>\n",
       "      <td>1982-11-22T02:06:32.019Z</td>\n",
       "      <td>11/15/1982</td>\n",
       "      <td>22:04</td>\n",
       "      <td>disk</td>\n",
       "      <td>4</td>\n",
       "      <td>1</td>\n",
       "      <td>partly cloudy</td>\n",
       "      <td>Eriberto</td>\n",
       "      <td>Runolfsson</td>\n",
       "      <td>52.664913</td>\n",
       "      <td>-1.034894</td>\n",
       "      <td>Y</td>\n",
       "      <td>Y</td>\n",
       "      <td>N</td>\n",
       "      <td>explained</td>\n",
       "    </tr>\n",
       "    <tr>\n",
       "      <th>2</th>\n",
       "      <td>1992-12-07T19:06:52.482Z</td>\n",
       "      <td>12/7/1992</td>\n",
       "      <td>19:01</td>\n",
       "      <td>circle</td>\n",
       "      <td>49</td>\n",
       "      <td>1</td>\n",
       "      <td>clear</td>\n",
       "      <td>Miller</td>\n",
       "      <td>Watsica</td>\n",
       "      <td>38.951667</td>\n",
       "      <td>-92.333889</td>\n",
       "      <td>Y</td>\n",
       "      <td>N</td>\n",
       "      <td>N</td>\n",
       "      <td>explained</td>\n",
       "    </tr>\n",
       "    <tr>\n",
       "      <th>3</th>\n",
       "      <td>2011-02-24T21:06:34.898Z</td>\n",
       "      <td>2/21/2011</td>\n",
       "      <td>20:56</td>\n",
       "      <td>disk</td>\n",
       "      <td>13</td>\n",
       "      <td>1</td>\n",
       "      <td>partly cloudy</td>\n",
       "      <td>Clifton</td>\n",
       "      <td>Bechtelar</td>\n",
       "      <td>41.496944</td>\n",
       "      <td>-71.367778</td>\n",
       "      <td>Y</td>\n",
       "      <td>N</td>\n",
       "      <td>N</td>\n",
       "      <td>explained</td>\n",
       "    </tr>\n",
       "    <tr>\n",
       "      <th>4</th>\n",
       "      <td>1991-03-09T16:18:45.501Z</td>\n",
       "      <td>3/9/1991</td>\n",
       "      <td>11:42</td>\n",
       "      <td>circle</td>\n",
       "      <td>17</td>\n",
       "      <td>1</td>\n",
       "      <td>mostly cloudy</td>\n",
       "      <td>Jayda</td>\n",
       "      <td>Ebert</td>\n",
       "      <td>47.606389</td>\n",
       "      <td>-122.330833</td>\n",
       "      <td>Y</td>\n",
       "      <td>N</td>\n",
       "      <td>N</td>\n",
       "      <td>explained</td>\n",
       "    </tr>\n",
       "  </tbody>\n",
       "</table>\n",
       "</div>"
      ],
      "text/plain": [
       "          reportedTimestamp   eventDate eventTime   shape  duration  \\\n",
       "0  1977-04-04T04:02:23.340Z   3/31/1977     23:46  circle         4   \n",
       "1  1982-11-22T02:06:32.019Z  11/15/1982     22:04    disk         4   \n",
       "2  1992-12-07T19:06:52.482Z   12/7/1992     19:01  circle        49   \n",
       "3  2011-02-24T21:06:34.898Z   2/21/2011     20:56    disk        13   \n",
       "4  1991-03-09T16:18:45.501Z    3/9/1991     11:42  circle        17   \n",
       "\n",
       "   witnesses        weather firstName    lastName   latitude   longitude  \\\n",
       "0          1           rain       Ila   Bashirian  47.329444 -122.578889   \n",
       "1          1  partly cloudy  Eriberto  Runolfsson  52.664913   -1.034894   \n",
       "2          1          clear    Miller     Watsica  38.951667  -92.333889   \n",
       "3          1  partly cloudy   Clifton   Bechtelar  41.496944  -71.367778   \n",
       "4          1  mostly cloudy     Jayda       Ebert  47.606389 -122.330833   \n",
       "\n",
       "  sighting physicalEvidence contact researchOutcome  \n",
       "0        Y                N       N       explained  \n",
       "1        Y                Y       N       explained  \n",
       "2        Y                N       N       explained  \n",
       "3        Y                N       N       explained  \n",
       "4        Y                N       N       explained  "
      ]
     },
     "execution_count": 4,
     "metadata": {},
     "output_type": "execute_result"
    }
   ],
   "source": [
    "df.head()"
   ]
  },
  {
   "cell_type": "code",
   "execution_count": 5,
   "metadata": {},
   "outputs": [
    {
     "data": {
      "text/plain": [
       "(18000, 15)"
      ]
     },
     "execution_count": 5,
     "metadata": {},
     "output_type": "execute_result"
    }
   ],
   "source": [
    "df.shape"
   ]
  },
  {
   "cell_type": "markdown",
   "metadata": {},
   "source": [
    "# Step2: Cleaning. transforming, and preparing the data"
   ]
  },
  {
   "cell_type": "code",
   "execution_count": 6,
   "metadata": {},
   "outputs": [],
   "source": [
    "df_geo = df[['latitude','longitude']]"
   ]
  },
  {
   "cell_type": "code",
   "execution_count": 7,
   "metadata": {},
   "outputs": [
    {
     "name": "stdout",
     "output_type": "stream",
     "text": [
      "<class 'pandas.core.frame.DataFrame'>\n",
      "RangeIndex: 18000 entries, 0 to 17999\n",
      "Data columns (total 2 columns):\n",
      " #   Column     Non-Null Count  Dtype  \n",
      "---  ------     --------------  -----  \n",
      " 0   latitude   18000 non-null  float64\n",
      " 1   longitude  18000 non-null  float64\n",
      "dtypes: float64(2)\n",
      "memory usage: 281.4 KB\n"
     ]
    }
   ],
   "source": [
    "df_geo.info()"
   ]
  },
  {
   "cell_type": "code",
   "execution_count": 8,
   "metadata": {},
   "outputs": [],
   "source": [
    "# transform the dataframe to numpy"
   ]
  },
  {
   "cell_type": "code",
   "execution_count": 9,
   "metadata": {},
   "outputs": [
    {
     "data": {
      "text/plain": [
       "array([[  47.329445, -122.57889 ],\n",
       "       [  52.664913,   -1.034894],\n",
       "       [  38.951668,  -92.333885],\n",
       "       ...,\n",
       "       [  36.86639 ,  -83.888885],\n",
       "       [  35.385834,  -94.39833 ],\n",
       "       [  29.883055,  -97.94111 ]], dtype=float32)"
      ]
     },
     "execution_count": 9,
     "metadata": {},
     "output_type": "execute_result"
    }
   ],
   "source": [
    "data_train = df_geo.values.astype('float32')\n",
    "data_train"
   ]
  },
  {
   "cell_type": "markdown",
   "metadata": {},
   "source": [
    "# step3: Create and train model"
   ]
  },
  {
   "cell_type": "code",
   "execution_count": 10,
   "metadata": {},
   "outputs": [],
   "source": [
    "from sagemaker import KMeans\n",
    "\n",
    "num_cluster = 10\n",
    "output_location = 's3://'+ bucket +'/mdole-artifacts'\n",
    "\n",
    "km = KMeans(role = role, \n",
    "           train_instance_count = 1,\n",
    "           train_instance_type ='ml.c4.xlarge',\n",
    "           output_path = output_location,\n",
    "           k = num_cluster)"
   ]
  },
  {
   "cell_type": "code",
   "execution_count": 11,
   "metadata": {},
   "outputs": [
    {
     "name": "stdout",
     "output_type": "stream",
     "text": [
      "Here is the job namekmeans-geo-job-202008100344\n"
     ]
    }
   ],
   "source": [
    "job_name = 'kmeans-geo-job-{}'.format(datetime.now().strftime(\"%Y%m%d%H%M\"))\n",
    "print('Here is the job name{}'.format(job_name))"
   ]
  },
  {
   "cell_type": "code",
   "execution_count": 12,
   "metadata": {},
   "outputs": [
    {
     "name": "stderr",
     "output_type": "stream",
     "text": [
      "'s3_input' class will be renamed to 'TrainingInput' in SageMaker Python SDK v2.\n",
      "'get_image_uri' method will be deprecated in favor of 'ImageURIProvider' class in SageMaker Python SDK v2.\n"
     ]
    },
    {
     "name": "stdout",
     "output_type": "stream",
     "text": [
      "2020-08-10 03:44:43 Starting - Starting the training job...\n",
      "2020-08-10 03:44:45 Starting - Launching requested ML instances.........\n",
      "2020-08-10 03:46:29 Starting - Preparing the instances for training......\n",
      "2020-08-10 03:47:28 Downloading - Downloading input data...\n",
      "2020-08-10 03:48:01 Training - Downloading the training image..\u001b[34mDocker entrypoint called with argument(s): train\u001b[0m\n",
      "\u001b[34mRunning default environment configuration script\u001b[0m\n",
      "\u001b[34m[08/10/2020 03:48:24 INFO 139947675027264] Reading default configuration from /opt/amazon/lib/python2.7/site-packages/algorithm/resources/default-input.json: {u'_enable_profiler': u'false', u'_tuning_objective_metric': u'', u'_num_gpus': u'auto', u'local_lloyd_num_trials': u'auto', u'_log_level': u'info', u'_kvstore': u'auto', u'local_lloyd_init_method': u'kmeans++', u'force_dense': u'true', u'epochs': u'1', u'init_method': u'random', u'local_lloyd_tol': u'0.0001', u'local_lloyd_max_iter': u'300', u'_disable_wait_to_read': u'false', u'extra_center_factor': u'auto', u'eval_metrics': u'[\"msd\"]', u'_num_kv_servers': u'1', u'mini_batch_size': u'5000', u'half_life_time_size': u'0', u'_num_slices': u'1'}\u001b[0m\n",
      "\u001b[34m[08/10/2020 03:48:24 INFO 139947675027264] Reading provided configuration from /opt/ml/input/config/hyperparameters.json: {u'feature_dim': u'2', u'k': u'10', u'force_dense': u'True'}\u001b[0m\n",
      "\u001b[34m[08/10/2020 03:48:24 INFO 139947675027264] Final configuration: {u'_tuning_objective_metric': u'', u'extra_center_factor': u'auto', u'local_lloyd_init_method': u'kmeans++', u'force_dense': u'True', u'epochs': u'1', u'feature_dim': u'2', u'local_lloyd_tol': u'0.0001', u'_disable_wait_to_read': u'false', u'eval_metrics': u'[\"msd\"]', u'_num_kv_servers': u'1', u'mini_batch_size': u'5000', u'_enable_profiler': u'false', u'_num_gpus': u'auto', u'local_lloyd_num_trials': u'auto', u'_log_level': u'info', u'init_method': u'random', u'half_life_time_size': u'0', u'local_lloyd_max_iter': u'300', u'_kvstore': u'auto', u'k': u'10', u'_num_slices': u'1'}\u001b[0m\n",
      "\u001b[34m[08/10/2020 03:48:24 WARNING 139947675027264] Loggers have already been setup.\u001b[0m\n",
      "\u001b[34mProcess 1 is a worker.\u001b[0m\n",
      "\u001b[34m[08/10/2020 03:48:24 INFO 139947675027264] Using default worker.\u001b[0m\n",
      "\u001b[34m[08/10/2020 03:48:24 INFO 139947675027264] Loaded iterator creator application/x-recordio-protobuf for content type ('application/x-recordio-protobuf', '1.0')\u001b[0m\n",
      "\u001b[34m[08/10/2020 03:48:24 INFO 139947675027264] Create Store: local\u001b[0m\n",
      "\u001b[34m[08/10/2020 03:48:24 INFO 139947675027264] nvidia-smi took: 0.0251798629761 secs to identify 0 gpus\u001b[0m\n",
      "\u001b[34m[08/10/2020 03:48:24 INFO 139947675027264] Number of GPUs being used: 0\u001b[0m\n",
      "\u001b[34m[08/10/2020 03:48:24 INFO 139947675027264] Setting up with params: {u'_tuning_objective_metric': u'', u'extra_center_factor': u'auto', u'local_lloyd_init_method': u'kmeans++', u'force_dense': u'True', u'epochs': u'1', u'feature_dim': u'2', u'local_lloyd_tol': u'0.0001', u'_disable_wait_to_read': u'false', u'eval_metrics': u'[\"msd\"]', u'_num_kv_servers': u'1', u'mini_batch_size': u'5000', u'_enable_profiler': u'false', u'_num_gpus': u'auto', u'local_lloyd_num_trials': u'auto', u'_log_level': u'info', u'init_method': u'random', u'half_life_time_size': u'0', u'local_lloyd_max_iter': u'300', u'_kvstore': u'auto', u'k': u'10', u'_num_slices': u'1'}\u001b[0m\n",
      "\u001b[34m[08/10/2020 03:48:24 INFO 139947675027264] 'extra_center_factor' was set to 'auto', evaluated to 10.\u001b[0m\n",
      "\u001b[34m[08/10/2020 03:48:24 INFO 139947675027264] Number of GPUs being used: 0\u001b[0m\n",
      "\u001b[34m[08/10/2020 03:48:24 INFO 139947675027264] number of center slices 1\u001b[0m\n",
      "\u001b[34m#metrics {\"Metrics\": {\"Max Batches Seen Between Resets\": {\"count\": 1, \"max\": 1, \"sum\": 1.0, \"min\": 1}, \"Number of Batches Since Last Reset\": {\"count\": 1, \"max\": 1, \"sum\": 1.0, \"min\": 1}, \"Number of Records Since Last Reset\": {\"count\": 1, \"max\": 5000, \"sum\": 5000.0, \"min\": 5000}, \"Total Batches Seen\": {\"count\": 1, \"max\": 1, \"sum\": 1.0, \"min\": 1}, \"Total Records Seen\": {\"count\": 1, \"max\": 5000, \"sum\": 5000.0, \"min\": 5000}, \"Max Records Seen Between Resets\": {\"count\": 1, \"max\": 5000, \"sum\": 5000.0, \"min\": 5000}, \"Reset Count\": {\"count\": 1, \"max\": 0, \"sum\": 0.0, \"min\": 0}}, \"EndTime\": 1597031304.229034, \"Dimensions\": {\"Host\": \"algo-1\", \"Meta\": \"init_train_data_iter\", \"Operation\": \"training\", \"Algorithm\": \"AWS/KMeansWebscale\"}, \"StartTime\": 1597031304.229}\n",
      "\u001b[0m\n",
      "\u001b[34m[2020-08-10 03:48:24.229] [tensorio] [info] epoch_stats={\"data_pipeline\": \"/opt/ml/input/data/train\", \"epoch\": 0, \"duration\": 46, \"num_examples\": 1, \"num_bytes\": 160000}\u001b[0m\n",
      "\u001b[34m[2020-08-10 03:48:24.318] [tensorio] [info] epoch_stats={\"data_pipeline\": \"/opt/ml/input/data/train\", \"epoch\": 1, \"duration\": 88, \"num_examples\": 4, \"num_bytes\": 576000}\u001b[0m\n",
      "\u001b[34m[08/10/2020 03:48:24 INFO 139947675027264] processed a total of 18000 examples\u001b[0m\n",
      "\u001b[34m[08/10/2020 03:48:24 INFO 139947675027264] #progress_metric: host=algo-1, completed 100 % of epochs\u001b[0m\n",
      "\u001b[34m#metrics {\"Metrics\": {\"Max Batches Seen Between Resets\": {\"count\": 1, \"max\": 4, \"sum\": 4.0, \"min\": 4}, \"Number of Batches Since Last Reset\": {\"count\": 1, \"max\": 4, \"sum\": 4.0, \"min\": 4}, \"Number of Records Since Last Reset\": {\"count\": 1, \"max\": 18000, \"sum\": 18000.0, \"min\": 18000}, \"Total Batches Seen\": {\"count\": 1, \"max\": 5, \"sum\": 5.0, \"min\": 5}, \"Total Records Seen\": {\"count\": 1, \"max\": 23000, \"sum\": 23000.0, \"min\": 23000}, \"Max Records Seen Between Resets\": {\"count\": 1, \"max\": 18000, \"sum\": 18000.0, \"min\": 18000}, \"Reset Count\": {\"count\": 1, \"max\": 1, \"sum\": 1.0, \"min\": 1}}, \"EndTime\": 1597031304.319239, \"Dimensions\": {\"Host\": \"algo-1\", \"Meta\": \"training_data_iter\", \"Operation\": \"training\", \"Algorithm\": \"AWS/KMeansWebscale\", \"epoch\": 0}, \"StartTime\": 1597031304.229272}\n",
      "\u001b[0m\n",
      "\u001b[34m[08/10/2020 03:48:24 INFO 139947675027264] #throughput_metric: host=algo-1, train throughput=199739.858564 records/second\u001b[0m\n",
      "\u001b[34m[08/10/2020 03:48:24 WARNING 139947675027264] wait_for_all_workers will not sync workers since the kv store is not running distributed\u001b[0m\n",
      "\u001b[34m[08/10/2020 03:48:24 INFO 139947675027264] shrinking 100 centers into 10\u001b[0m\n",
      "\u001b[34m[08/10/2020 03:48:24 INFO 139947675027264] local kmeans attempt #0. Current mean square distance 47.043621\u001b[0m\n",
      "\u001b[34m[08/10/2020 03:48:24 INFO 139947675027264] local kmeans attempt #1. Current mean square distance 46.120026\u001b[0m\n",
      "\u001b[34m[08/10/2020 03:48:24 INFO 139947675027264] local kmeans attempt #2. Current mean square distance 46.642635\u001b[0m\n",
      "\u001b[34m[08/10/2020 03:48:24 INFO 139947675027264] local kmeans attempt #3. Current mean square distance 42.383007\u001b[0m\n",
      "\u001b[34m[08/10/2020 03:48:24 INFO 139947675027264] local kmeans attempt #4. Current mean square distance 41.954636\u001b[0m\n",
      "\u001b[34m[08/10/2020 03:48:24 INFO 139947675027264] local kmeans attempt #5. Current mean square distance 46.874180\u001b[0m\n",
      "\u001b[34m[08/10/2020 03:48:24 INFO 139947675027264] local kmeans attempt #6. Current mean square distance 47.033714\u001b[0m\n",
      "\u001b[34m[08/10/2020 03:48:24 INFO 139947675027264] local kmeans attempt #7. Current mean square distance 46.554840\u001b[0m\n",
      "\u001b[34m[08/10/2020 03:48:24 INFO 139947675027264] local kmeans attempt #8. Current mean square distance 46.029392\u001b[0m\n",
      "\u001b[34m[08/10/2020 03:48:24 INFO 139947675027264] local kmeans attempt #9. Current mean square distance 41.138252\u001b[0m\n",
      "\u001b[34m[08/10/2020 03:48:24 INFO 139947675027264] finished shrinking process. Mean Square Distance = 41\u001b[0m\n",
      "\u001b[34m[08/10/2020 03:48:24 INFO 139947675027264] #quality_metric: host=algo-1, train msd <loss>=41.1382522583\u001b[0m\n",
      "\u001b[34m[08/10/2020 03:48:24 INFO 139947675027264] compute all data-center distances: inner product took: 23.0434%, (0.022276 secs)\u001b[0m\n",
      "\u001b[34m[08/10/2020 03:48:24 INFO 139947675027264] predict compute msd took: 20.1998%, (0.019527 secs)\u001b[0m\n",
      "\u001b[34m[08/10/2020 03:48:24 INFO 139947675027264] gradient: cluster size  took: 12.2050%, (0.011799 secs)\u001b[0m\n",
      "\u001b[34m[08/10/2020 03:48:24 INFO 139947675027264] collect from kv store took: 8.9687%, (0.008670 secs)\u001b[0m\n",
      "\u001b[34m[08/10/2020 03:48:24 INFO 139947675027264] splitting centers key-value pair took: 8.5433%, (0.008259 secs)\u001b[0m\n",
      "\u001b[34m[08/10/2020 03:48:24 INFO 139947675027264] gradient: cluster center took: 7.3022%, (0.007059 secs)\u001b[0m\n",
      "\u001b[34m[08/10/2020 03:48:24 INFO 139947675027264] batch data loading with context took: 7.2268%, (0.006986 secs)\u001b[0m\n",
      "\u001b[34m[08/10/2020 03:48:24 INFO 139947675027264] compute all data-center distances: point norm took: 5.4673%, (0.005285 secs)\u001b[0m\n",
      "\u001b[34m[08/10/2020 03:48:24 INFO 139947675027264] gradient: one_hot took: 4.2879%, (0.004145 secs)\u001b[0m\n",
      "\u001b[34m[08/10/2020 03:48:24 INFO 139947675027264] update state and report convergance took: 1.8547%, (0.001793 secs)\u001b[0m\n",
      "\u001b[34m[08/10/2020 03:48:24 INFO 139947675027264] compute all data-center distances: center norm took: 0.6114%, (0.000591 secs)\u001b[0m\n",
      "\u001b[34m[08/10/2020 03:48:24 INFO 139947675027264] update set-up time took: 0.2153%, (0.000208 secs)\u001b[0m\n",
      "\u001b[34m[08/10/2020 03:48:24 INFO 139947675027264] predict minus dist took: 0.0742%, (0.000072 secs)\u001b[0m\n",
      "\u001b[34m[08/10/2020 03:48:24 INFO 139947675027264] TOTAL took: 0.0966703891754\u001b[0m\n",
      "\u001b[34m[08/10/2020 03:48:24 INFO 139947675027264] Number of GPUs being used: 0\u001b[0m\n",
      "\u001b[34m#metrics {\"Metrics\": {\"finalize.time\": {\"count\": 1, \"max\": 380.12194633483887, \"sum\": 380.12194633483887, \"min\": 380.12194633483887}, \"initialize.time\": {\"count\": 1, \"max\": 39.044857025146484, \"sum\": 39.044857025146484, \"min\": 39.044857025146484}, \"model.serialize.time\": {\"count\": 1, \"max\": 0.15497207641601562, \"sum\": 0.15497207641601562, \"min\": 0.15497207641601562}, \"update.time\": {\"count\": 1, \"max\": 89.78700637817383, \"sum\": 89.78700637817383, \"min\": 89.78700637817383}, \"epochs\": {\"count\": 1, \"max\": 1, \"sum\": 1.0, \"min\": 1}, \"state.serialize.time\": {\"count\": 1, \"max\": 1.5268325805664062, \"sum\": 1.5268325805664062, \"min\": 1.5268325805664062}, \"_shrink.time\": {\"count\": 1, \"max\": 378.7229061126709, \"sum\": 378.7229061126709, \"min\": 378.7229061126709}}, \"EndTime\": 1597031304.701574, \"Dimensions\": {\"Host\": \"algo-1\", \"Operation\": \"training\", \"Algorithm\": \"AWS/KMeansWebscale\"}, \"StartTime\": 1597031304.182011}\n",
      "\u001b[0m\n",
      "\u001b[34m[08/10/2020 03:48:24 INFO 139947675027264] Test data is not provided.\u001b[0m\n",
      "\u001b[34m#metrics {\"Metrics\": {\"totaltime\": {\"count\": 1, \"max\": 587.8498554229736, \"sum\": 587.8498554229736, \"min\": 587.8498554229736}, \"setuptime\": {\"count\": 1, \"max\": 16.165971755981445, \"sum\": 16.165971755981445, \"min\": 16.165971755981445}}, \"EndTime\": 1597031304.701943, \"Dimensions\": {\"Host\": \"algo-1\", \"Operation\": \"training\", \"Algorithm\": \"AWS/KMeansWebscale\"}, \"StartTime\": 1597031304.701695}\n",
      "\u001b[0m\n",
      "\n",
      "2020-08-10 03:48:34 Uploading - Uploading generated training model\n",
      "2020-08-10 03:48:34 Completed - Training job completed\n",
      "Training seconds: 66\n",
      "Billable seconds: 66\n",
      "CPU times: user 749 ms, sys: 22.3 ms, total: 772 ms\n",
      "Wall time: 4min 12s\n"
     ]
    }
   ],
   "source": [
    "%%time\n",
    "km.fit(km.record_set(data_train), job_name=job_name)"
   ]
  },
  {
   "cell_type": "code",
   "execution_count": 14,
   "metadata": {},
   "outputs": [
    {
     "data": {
      "text/plain": [
       "'ml-lab-ufo-elly'"
      ]
     },
     "execution_count": 14,
     "metadata": {},
     "output_type": "execute_result"
    }
   ],
   "source": [
    "bucket"
   ]
  },
  {
   "cell_type": "code",
   "execution_count": 15,
   "metadata": {},
   "outputs": [
    {
     "data": {
      "text/plain": [
       "2304"
      ]
     },
     "execution_count": 15,
     "metadata": {},
     "output_type": "execute_result"
    }
   ],
   "source": [
    "import os\n",
    "\n",
    "model_key ='mdole-artifacts/'+ job_name + '/output/model.tar.gz'\n",
    "\n",
    "boto3.resource('s3').Bucket(bucket).download_file(model_key, 'model.tar.gz')\n",
    "os.system('tar -zxvf model.tar.gz')\n",
    "os.system('unzip model_algo-1')"
   ]
  },
  {
   "cell_type": "code",
   "execution_count": 16,
   "metadata": {},
   "outputs": [
    {
     "name": "stdout",
     "output_type": "stream",
     "text": [
      "Collecting mxnet\n",
      "  Downloading mxnet-1.6.0-py2.py3-none-any.whl (68.7 MB)\n",
      "\u001b[K     |████████████████████████████████| 68.7 MB 74 kB/s s eta 0:00:01\n",
      "\u001b[?25hCollecting graphviz<0.9.0,>=0.8.1\n",
      "  Downloading graphviz-0.8.4-py2.py3-none-any.whl (16 kB)\n",
      "Requirement already satisfied: numpy<2.0.0,>1.16.0 in /home/ec2-user/anaconda3/envs/python3/lib/python3.6/site-packages (from mxnet) (1.18.1)\n",
      "Requirement already satisfied: requests<3,>=2.20.0 in /home/ec2-user/anaconda3/envs/python3/lib/python3.6/site-packages (from mxnet) (2.23.0)\n",
      "Requirement already satisfied: urllib3!=1.25.0,!=1.25.1,<1.26,>=1.21.1 in /home/ec2-user/anaconda3/envs/python3/lib/python3.6/site-packages (from requests<3,>=2.20.0->mxnet) (1.25.8)\n",
      "Requirement already satisfied: chardet<4,>=3.0.2 in /home/ec2-user/anaconda3/envs/python3/lib/python3.6/site-packages (from requests<3,>=2.20.0->mxnet) (3.0.4)\n",
      "Requirement already satisfied: idna<3,>=2.5 in /home/ec2-user/anaconda3/envs/python3/lib/python3.6/site-packages (from requests<3,>=2.20.0->mxnet) (2.9)\n",
      "Requirement already satisfied: certifi>=2017.4.17 in /home/ec2-user/anaconda3/envs/python3/lib/python3.6/site-packages (from requests<3,>=2.20.0->mxnet) (2020.4.5.2)\n",
      "Installing collected packages: graphviz, mxnet\n",
      "Successfully installed graphviz-0.8.4 mxnet-1.6.0\n",
      "\u001b[33mWARNING: You are using pip version 20.0.2; however, version 20.2.1 is available.\n",
      "You should consider upgrading via the '/home/ec2-user/anaconda3/envs/python3/bin/python -m pip install --upgrade pip' command.\u001b[0m\n"
     ]
    }
   ],
   "source": [
    "!pip install mxnet"
   ]
  },
  {
   "cell_type": "code",
   "execution_count": 17,
   "metadata": {},
   "outputs": [],
   "source": [
    "import mxnet as mx\n",
    "Kmeans_model_params = mx.ndarray.load('model_algo-1')"
   ]
  },
  {
   "cell_type": "code",
   "execution_count": 18,
   "metadata": {},
   "outputs": [
    {
     "data": {
      "text/html": [
       "<div>\n",
       "<style scoped>\n",
       "    .dataframe tbody tr th:only-of-type {\n",
       "        vertical-align: middle;\n",
       "    }\n",
       "\n",
       "    .dataframe tbody tr th {\n",
       "        vertical-align: top;\n",
       "    }\n",
       "\n",
       "    .dataframe thead th {\n",
       "        text-align: right;\n",
       "    }\n",
       "</style>\n",
       "<table border=\"1\" class=\"dataframe\">\n",
       "  <thead>\n",
       "    <tr style=\"text-align: right;\">\n",
       "      <th></th>\n",
       "      <th>latitude</th>\n",
       "      <th>longitude</th>\n",
       "    </tr>\n",
       "  </thead>\n",
       "  <tbody>\n",
       "    <tr>\n",
       "      <th>0</th>\n",
       "      <td>34.653027</td>\n",
       "      <td>-99.118713</td>\n",
       "    </tr>\n",
       "    <tr>\n",
       "      <th>1</th>\n",
       "      <td>23.332932</td>\n",
       "      <td>28.863106</td>\n",
       "    </tr>\n",
       "    <tr>\n",
       "      <th>2</th>\n",
       "      <td>40.512184</td>\n",
       "      <td>-87.938286</td>\n",
       "    </tr>\n",
       "    <tr>\n",
       "      <th>3</th>\n",
       "      <td>-32.081528</td>\n",
       "      <td>146.835007</td>\n",
       "    </tr>\n",
       "    <tr>\n",
       "      <th>4</th>\n",
       "      <td>47.496132</td>\n",
       "      <td>-121.987595</td>\n",
       "    </tr>\n",
       "    <tr>\n",
       "      <th>5</th>\n",
       "      <td>35.162930</td>\n",
       "      <td>-118.618706</td>\n",
       "    </tr>\n",
       "    <tr>\n",
       "      <th>6</th>\n",
       "      <td>51.975769</td>\n",
       "      <td>-0.152199</td>\n",
       "    </tr>\n",
       "    <tr>\n",
       "      <th>7</th>\n",
       "      <td>30.636560</td>\n",
       "      <td>-81.771118</td>\n",
       "    </tr>\n",
       "    <tr>\n",
       "      <th>8</th>\n",
       "      <td>41.355423</td>\n",
       "      <td>-75.137962</td>\n",
       "    </tr>\n",
       "    <tr>\n",
       "      <th>9</th>\n",
       "      <td>17.875875</td>\n",
       "      <td>95.769745</td>\n",
       "    </tr>\n",
       "  </tbody>\n",
       "</table>\n",
       "</div>"
      ],
      "text/plain": [
       "    latitude   longitude\n",
       "0  34.653027  -99.118713\n",
       "1  23.332932   28.863106\n",
       "2  40.512184  -87.938286\n",
       "3 -32.081528  146.835007\n",
       "4  47.496132 -121.987595\n",
       "5  35.162930 -118.618706\n",
       "6  51.975769   -0.152199\n",
       "7  30.636560  -81.771118\n",
       "8  41.355423  -75.137962\n",
       "9  17.875875   95.769745"
      ]
     },
     "execution_count": 18,
     "metadata": {},
     "output_type": "execute_result"
    }
   ],
   "source": [
    "cluster_centroids_kmeans = pd.DataFrame(Kmeans_model_params[0].asnumpy())\n",
    "cluster_centroids_kmeans.columns=df_geo.columns\n",
    "cluster_centroids_kmeans"
   ]
  },
  {
   "cell_type": "code",
   "execution_count": 19,
   "metadata": {},
   "outputs": [],
   "source": [
    "from io import StringIO"
   ]
  },
  {
   "cell_type": "code",
   "execution_count": 20,
   "metadata": {},
   "outputs": [
    {
     "data": {
      "text/plain": [
       "{'ResponseMetadata': {'RequestId': 'DC868748CF81CB2B',\n",
       "  'HostId': 'msi4MQ2LTo5VHiQOvjlXr/F30MZW/fd9xXp4v5zX+nthkjKN8/UqS+6hNcVe1kbV4GOC9JxyqRI=',\n",
       "  'HTTPStatusCode': 200,\n",
       "  'HTTPHeaders': {'x-amz-id-2': 'msi4MQ2LTo5VHiQOvjlXr/F30MZW/fd9xXp4v5zX+nthkjKN8/UqS+6hNcVe1kbV4GOC9JxyqRI=',\n",
       "   'x-amz-request-id': 'DC868748CF81CB2B',\n",
       "   'date': 'Mon, 10 Aug 2020 04:04:34 GMT',\n",
       "   'etag': '\"e34ac6f9ec5cd68495acaa44003b3552\"',\n",
       "   'content-length': '0',\n",
       "   'server': 'AmazonS3'},\n",
       "  'RetryAttempts': 0},\n",
       " 'ETag': '\"e34ac6f9ec5cd68495acaa44003b3552\"'}"
      ]
     },
     "execution_count": 20,
     "metadata": {},
     "output_type": "execute_result"
    }
   ],
   "source": [
    "csv_buffer = StringIO()\n",
    "cluster_centroids_kmeans.to_csv(csv_buffer, index = False)\n",
    "s3_resource = boto3.resource('s3')\n",
    "s3_resource.Object(bucket, 'results/ten_locations_kmeans.csv').put(Body=csv_buffer.getvalue())"
   ]
  },
  {
   "cell_type": "code",
   "execution_count": null,
   "metadata": {},
   "outputs": [],
   "source": []
  }
 ],
 "metadata": {
  "kernelspec": {
   "display_name": "conda_python3",
   "language": "python",
   "name": "conda_python3"
  },
  "language_info": {
   "codemirror_mode": {
    "name": "ipython",
    "version": 3
   },
   "file_extension": ".py",
   "mimetype": "text/x-python",
   "name": "python",
   "nbconvert_exporter": "python",
   "pygments_lexer": "ipython3",
   "version": "3.6.10"
  }
 },
 "nbformat": 4,
 "nbformat_minor": 4
}
