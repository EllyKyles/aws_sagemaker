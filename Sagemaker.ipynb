{
 "cells": [
  {
   "cell_type": "markdown",
   "metadata": {},
   "source": [
    "# Step1: Uploading ufo data from S3"
   ]
  },
  {
   "cell_type": "code",
   "execution_count": 1,
   "metadata": {},
   "outputs": [],
   "source": [
    "\n",
    "import pandas as pd\n",
    "import numpy as np\n",
    "from datetime import datetime\n",
    "\n",
    "import boto3\n",
    "from sagemaker import get_execution_role\n",
    "import sagemaker.amazon.common as smac"
   ]
  },
  {
   "cell_type": "code",
   "execution_count": 5,
   "metadata": {},
   "outputs": [],
   "source": [
    "\n",
    "role = get_execution_role()\n",
    "bucket = 'ml-lab-ufo-elly'\n",
    "prefix = 'ufo_dataset'\n",
    "data_key = 'ufodata.csv'\n",
    "data_location = 's3://{}/{}/{}'.format(bucket, prefix, data_key)\n",
    "\n",
    "df = pd.read_csv(data_location, low_memory=False)"
   ]
  },
  {
   "cell_type": "code",
   "execution_count": 2,
   "metadata": {
    "jupyter": {
     "source_hidden": true
    }
   },
   "outputs": [],
   "source": [
    "\n",
    "role = get_execution_role()\n",
    "bucket = 'ml-lab-ufo-elly'\n",
    "prefix = 'ufo_dataset'\n",
    "data_key = 'ufodata.csv'\n",
    "data_location = 's3://{}/{}/{}'.format(bucket, prefix, data_key)\n",
    "\n",
    "df = pd.read_csv(data_location, low_memory=False)"
   ]
  },
  {
   "cell_type": "code",
   "execution_count": 6,
   "metadata": {},
   "outputs": [
    {
     "data": {
      "text/html": [
       "<div>\n",
       "<style scoped>\n",
       "    .dataframe tbody tr th:only-of-type {\n",
       "        vertical-align: middle;\n",
       "    }\n",
       "\n",
       "    .dataframe tbody tr th {\n",
       "        vertical-align: top;\n",
       "    }\n",
       "\n",
       "    .dataframe thead th {\n",
       "        text-align: right;\n",
       "    }\n",
       "</style>\n",
       "<table border=\"1\" class=\"dataframe\">\n",
       "  <thead>\n",
       "    <tr style=\"text-align: right;\">\n",
       "      <th></th>\n",
       "      <th>reportedTimestamp</th>\n",
       "      <th>eventDate</th>\n",
       "      <th>eventTime</th>\n",
       "      <th>shape</th>\n",
       "      <th>duration</th>\n",
       "      <th>witnesses</th>\n",
       "      <th>weather</th>\n",
       "      <th>firstName</th>\n",
       "      <th>lastName</th>\n",
       "      <th>latitude</th>\n",
       "      <th>longitude</th>\n",
       "      <th>sighting</th>\n",
       "      <th>physicalEvidence</th>\n",
       "      <th>contact</th>\n",
       "      <th>researchOutcome</th>\n",
       "    </tr>\n",
       "  </thead>\n",
       "  <tbody>\n",
       "    <tr>\n",
       "      <th>0</th>\n",
       "      <td>1977-04-04T04:02:23.340Z</td>\n",
       "      <td>3/31/1977</td>\n",
       "      <td>23:46</td>\n",
       "      <td>circle</td>\n",
       "      <td>4</td>\n",
       "      <td>1</td>\n",
       "      <td>rain</td>\n",
       "      <td>Ila</td>\n",
       "      <td>Bashirian</td>\n",
       "      <td>47.329444</td>\n",
       "      <td>-122.578889</td>\n",
       "      <td>Y</td>\n",
       "      <td>N</td>\n",
       "      <td>N</td>\n",
       "      <td>explained</td>\n",
       "    </tr>\n",
       "    <tr>\n",
       "      <th>1</th>\n",
       "      <td>1982-11-22T02:06:32.019Z</td>\n",
       "      <td>11/15/1982</td>\n",
       "      <td>22:04</td>\n",
       "      <td>disk</td>\n",
       "      <td>4</td>\n",
       "      <td>1</td>\n",
       "      <td>partly cloudy</td>\n",
       "      <td>Eriberto</td>\n",
       "      <td>Runolfsson</td>\n",
       "      <td>52.664913</td>\n",
       "      <td>-1.034894</td>\n",
       "      <td>Y</td>\n",
       "      <td>Y</td>\n",
       "      <td>N</td>\n",
       "      <td>explained</td>\n",
       "    </tr>\n",
       "    <tr>\n",
       "      <th>2</th>\n",
       "      <td>1992-12-07T19:06:52.482Z</td>\n",
       "      <td>12/7/1992</td>\n",
       "      <td>19:01</td>\n",
       "      <td>circle</td>\n",
       "      <td>49</td>\n",
       "      <td>1</td>\n",
       "      <td>clear</td>\n",
       "      <td>Miller</td>\n",
       "      <td>Watsica</td>\n",
       "      <td>38.951667</td>\n",
       "      <td>-92.333889</td>\n",
       "      <td>Y</td>\n",
       "      <td>N</td>\n",
       "      <td>N</td>\n",
       "      <td>explained</td>\n",
       "    </tr>\n",
       "    <tr>\n",
       "      <th>3</th>\n",
       "      <td>2011-02-24T21:06:34.898Z</td>\n",
       "      <td>2/21/2011</td>\n",
       "      <td>20:56</td>\n",
       "      <td>disk</td>\n",
       "      <td>13</td>\n",
       "      <td>1</td>\n",
       "      <td>partly cloudy</td>\n",
       "      <td>Clifton</td>\n",
       "      <td>Bechtelar</td>\n",
       "      <td>41.496944</td>\n",
       "      <td>-71.367778</td>\n",
       "      <td>Y</td>\n",
       "      <td>N</td>\n",
       "      <td>N</td>\n",
       "      <td>explained</td>\n",
       "    </tr>\n",
       "    <tr>\n",
       "      <th>4</th>\n",
       "      <td>1991-03-09T16:18:45.501Z</td>\n",
       "      <td>3/9/1991</td>\n",
       "      <td>11:42</td>\n",
       "      <td>circle</td>\n",
       "      <td>17</td>\n",
       "      <td>1</td>\n",
       "      <td>mostly cloudy</td>\n",
       "      <td>Jayda</td>\n",
       "      <td>Ebert</td>\n",
       "      <td>47.606389</td>\n",
       "      <td>-122.330833</td>\n",
       "      <td>Y</td>\n",
       "      <td>N</td>\n",
       "      <td>N</td>\n",
       "      <td>explained</td>\n",
       "    </tr>\n",
       "  </tbody>\n",
       "</table>\n",
       "</div>"
      ],
      "text/plain": [
       "          reportedTimestamp   eventDate eventTime   shape  duration  \\\n",
       "0  1977-04-04T04:02:23.340Z   3/31/1977     23:46  circle         4   \n",
       "1  1982-11-22T02:06:32.019Z  11/15/1982     22:04    disk         4   \n",
       "2  1992-12-07T19:06:52.482Z   12/7/1992     19:01  circle        49   \n",
       "3  2011-02-24T21:06:34.898Z   2/21/2011     20:56    disk        13   \n",
       "4  1991-03-09T16:18:45.501Z    3/9/1991     11:42  circle        17   \n",
       "\n",
       "   witnesses        weather firstName    lastName   latitude   longitude  \\\n",
       "0          1           rain       Ila   Bashirian  47.329444 -122.578889   \n",
       "1          1  partly cloudy  Eriberto  Runolfsson  52.664913   -1.034894   \n",
       "2          1          clear    Miller     Watsica  38.951667  -92.333889   \n",
       "3          1  partly cloudy   Clifton   Bechtelar  41.496944  -71.367778   \n",
       "4          1  mostly cloudy     Jayda       Ebert  47.606389 -122.330833   \n",
       "\n",
       "  sighting physicalEvidence contact researchOutcome  \n",
       "0        Y                N       N       explained  \n",
       "1        Y                Y       N       explained  \n",
       "2        Y                N       N       explained  \n",
       "3        Y                N       N       explained  \n",
       "4        Y                N       N       explained  "
      ]
     },
     "execution_count": 6,
     "metadata": {},
     "output_type": "execute_result"
    }
   ],
   "source": [
    "df.head()"
   ]
  },
  {
   "cell_type": "code",
   "execution_count": 8,
   "metadata": {},
   "outputs": [
    {
     "data": {
      "text/plain": [
       "(18000, 15)"
      ]
     },
     "execution_count": 8,
     "metadata": {},
     "output_type": "execute_result"
    }
   ],
   "source": [
    "df.shape"
   ]
  },
  {
   "cell_type": "markdown",
   "metadata": {},
   "source": [
    "# Step2: Cleaning. transforming, and preparing the data"
   ]
  },
  {
   "cell_type": "code",
   "execution_count": 9,
   "metadata": {},
   "outputs": [],
   "source": [
    "df_geo = df[['latitude','longitude']]"
   ]
  },
  {
   "cell_type": "code",
   "execution_count": 10,
   "metadata": {},
   "outputs": [
    {
     "name": "stdout",
     "output_type": "stream",
     "text": [
      "<class 'pandas.core.frame.DataFrame'>\n",
      "RangeIndex: 18000 entries, 0 to 17999\n",
      "Data columns (total 2 columns):\n",
      " #   Column     Non-Null Count  Dtype  \n",
      "---  ------     --------------  -----  \n",
      " 0   latitude   18000 non-null  float64\n",
      " 1   longitude  18000 non-null  float64\n",
      "dtypes: float64(2)\n",
      "memory usage: 281.4 KB\n"
     ]
    }
   ],
   "source": [
    "df_geo.info()"
   ]
  },
  {
   "cell_type": "code",
   "execution_count": 11,
   "metadata": {},
   "outputs": [],
   "source": [
    "# transform the dataframe to numpy"
   ]
  },
  {
   "cell_type": "code",
   "execution_count": 12,
   "metadata": {},
   "outputs": [
    {
     "data": {
      "text/plain": [
       "array([[  47.329445, -122.57889 ],\n",
       "       [  52.664913,   -1.034894],\n",
       "       [  38.951668,  -92.333885],\n",
       "       ...,\n",
       "       [  36.86639 ,  -83.888885],\n",
       "       [  35.385834,  -94.39833 ],\n",
       "       [  29.883055,  -97.94111 ]], dtype=float32)"
      ]
     },
     "execution_count": 12,
     "metadata": {},
     "output_type": "execute_result"
    }
   ],
   "source": [
    "data_train = df_geo.values.astype('float32')\n",
    "data_train"
   ]
  },
  {
   "cell_type": "markdown",
   "metadata": {},
   "source": [
    "# step3: Create and train model"
   ]
  },
  {
   "cell_type": "code",
   "execution_count": 13,
   "metadata": {},
   "outputs": [],
   "source": [
    "from sagemaker import KMeans\n",
    "\n",
    "num_cluster = 10\n",
    "output_location = 's3://'+ bucket +'/mdole-artifacts'\n",
    "\n",
    "km = KMeans(role = role, \n",
    "           train_instance_count = 1,\n",
    "           train_instance_type ='ml.c4.xlarge',\n",
    "           output_path = output_location,\n",
    "           k = num_cluster)"
   ]
  },
  {
   "cell_type": "code",
   "execution_count": 14,
   "metadata": {},
   "outputs": [
    {
     "name": "stdout",
     "output_type": "stream",
     "text": [
      "Here is the job namekmeans-geo-job-202007122225\n"
     ]
    }
   ],
   "source": [
    "job_name = 'kmeans-geo-job-{}'.format(datetime.now().strftime(\"%Y%m%d%H%M\"))\n",
    "print('Here is the job name{}'.format(job_name))"
   ]
  },
  {
   "cell_type": "code",
   "execution_count": 15,
   "metadata": {},
   "outputs": [
    {
     "name": "stderr",
     "output_type": "stream",
     "text": [
      "'s3_input' class will be renamed to 'TrainingInput' in SageMaker Python SDK v2.\n",
      "'get_image_uri' method will be deprecated in favor of 'ImageURIProvider' class in SageMaker Python SDK v2.\n"
     ]
    },
    {
     "name": "stdout",
     "output_type": "stream",
     "text": [
      "2020-07-12 22:25:06 Starting - Starting the training job...\n",
      "2020-07-12 22:25:08 Starting - Launching requested ML instances.........\n",
      "2020-07-12 22:26:46 Starting - Preparing the instances for training......\n",
      "2020-07-12 22:28:04 Downloading - Downloading input data...\n",
      "2020-07-12 22:28:22 Training - Downloading the training image..\u001b[34mDocker entrypoint called with argument(s): train\u001b[0m\n",
      "\u001b[34mRunning default environment configuration script\u001b[0m\n",
      "\u001b[34m[07/12/2020 22:28:46 INFO 139815496828736] Reading default configuration from /opt/amazon/lib/python2.7/site-packages/algorithm/resources/default-input.json: {u'_enable_profiler': u'false', u'_tuning_objective_metric': u'', u'_num_gpus': u'auto', u'local_lloyd_num_trials': u'auto', u'_log_level': u'info', u'_kvstore': u'auto', u'local_lloyd_init_method': u'kmeans++', u'force_dense': u'true', u'epochs': u'1', u'init_method': u'random', u'local_lloyd_tol': u'0.0001', u'local_lloyd_max_iter': u'300', u'_disable_wait_to_read': u'false', u'extra_center_factor': u'auto', u'eval_metrics': u'[\"msd\"]', u'_num_kv_servers': u'1', u'mini_batch_size': u'5000', u'half_life_time_size': u'0', u'_num_slices': u'1'}\u001b[0m\n",
      "\u001b[34m[07/12/2020 22:28:46 INFO 139815496828736] Reading provided configuration from /opt/ml/input/config/hyperparameters.json: {u'feature_dim': u'2', u'k': u'10', u'force_dense': u'True'}\u001b[0m\n",
      "\u001b[34m[07/12/2020 22:28:46 INFO 139815496828736] Final configuration: {u'_tuning_objective_metric': u'', u'extra_center_factor': u'auto', u'local_lloyd_init_method': u'kmeans++', u'force_dense': u'True', u'epochs': u'1', u'feature_dim': u'2', u'local_lloyd_tol': u'0.0001', u'_disable_wait_to_read': u'false', u'eval_metrics': u'[\"msd\"]', u'_num_kv_servers': u'1', u'mini_batch_size': u'5000', u'_enable_profiler': u'false', u'_num_gpus': u'auto', u'local_lloyd_num_trials': u'auto', u'_log_level': u'info', u'init_method': u'random', u'half_life_time_size': u'0', u'local_lloyd_max_iter': u'300', u'_kvstore': u'auto', u'k': u'10', u'_num_slices': u'1'}\u001b[0m\n",
      "\u001b[34m[07/12/2020 22:28:46 WARNING 139815496828736] Loggers have already been setup.\u001b[0m\n",
      "\u001b[34mProcess 1 is a worker.\u001b[0m\n",
      "\u001b[34m[07/12/2020 22:28:46 INFO 139815496828736] Using default worker.\u001b[0m\n",
      "\u001b[34m[07/12/2020 22:28:46 INFO 139815496828736] Loaded iterator creator application/x-recordio-protobuf for content type ('application/x-recordio-protobuf', '1.0')\u001b[0m\n",
      "\u001b[34m[07/12/2020 22:28:46 INFO 139815496828736] Create Store: local\u001b[0m\n",
      "\u001b[34m[07/12/2020 22:28:46 INFO 139815496828736] nvidia-smi took: 0.0252659320831 secs to identify 0 gpus\u001b[0m\n",
      "\u001b[34m[07/12/2020 22:28:46 INFO 139815496828736] Number of GPUs being used: 0\u001b[0m\n",
      "\u001b[34m[07/12/2020 22:28:46 INFO 139815496828736] Setting up with params: {u'_tuning_objective_metric': u'', u'extra_center_factor': u'auto', u'local_lloyd_init_method': u'kmeans++', u'force_dense': u'True', u'epochs': u'1', u'feature_dim': u'2', u'local_lloyd_tol': u'0.0001', u'_disable_wait_to_read': u'false', u'eval_metrics': u'[\"msd\"]', u'_num_kv_servers': u'1', u'mini_batch_size': u'5000', u'_enable_profiler': u'false', u'_num_gpus': u'auto', u'local_lloyd_num_trials': u'auto', u'_log_level': u'info', u'init_method': u'random', u'half_life_time_size': u'0', u'local_lloyd_max_iter': u'300', u'_kvstore': u'auto', u'k': u'10', u'_num_slices': u'1'}\u001b[0m\n",
      "\u001b[34m[07/12/2020 22:28:46 INFO 139815496828736] 'extra_center_factor' was set to 'auto', evaluated to 10.\u001b[0m\n",
      "\u001b[34m[07/12/2020 22:28:46 INFO 139815496828736] Number of GPUs being used: 0\u001b[0m\n",
      "\u001b[34m[07/12/2020 22:28:46 INFO 139815496828736] number of center slices 1\u001b[0m\n",
      "\u001b[34m#metrics {\"Metrics\": {\"Max Batches Seen Between Resets\": {\"count\": 1, \"max\": 1, \"sum\": 1.0, \"min\": 1}, \"Number of Batches Since Last Reset\": {\"count\": 1, \"max\": 1, \"sum\": 1.0, \"min\": 1}, \"Number of Records Since Last Reset\": {\"count\": 1, \"max\": 5000, \"sum\": 5000.0, \"min\": 5000}, \"Total Batches Seen\": {\"count\": 1, \"max\": 1, \"sum\": 1.0, \"min\": 1}, \"Total Records Seen\": {\"count\": 1, \"max\": 5000, \"sum\": 5000.0, \"min\": 5000}, \"Max Records Seen Between Resets\": {\"count\": 1, \"max\": 5000, \"sum\": 5000.0, \"min\": 5000}, \"Reset Count\": {\"count\": 1, \"max\": 0, \"sum\": 0.0, \"min\": 0}}, \"EndTime\": 1594592926.791383, \"Dimensions\": {\"Host\": \"algo-1\", \"Meta\": \"init_train_data_iter\", \"Operation\": \"training\", \"Algorithm\": \"AWS/KMeansWebscale\"}, \"StartTime\": 1594592926.791344}\n",
      "\u001b[0m\n",
      "\u001b[34m[2020-07-12 22:28:46.791] [tensorio] [info] epoch_stats={\"data_pipeline\": \"/opt/ml/input/data/train\", \"epoch\": 0, \"duration\": 51, \"num_examples\": 1, \"num_bytes\": 160000}\u001b[0m\n",
      "\u001b[34m[2020-07-12 22:28:46.886] [tensorio] [info] epoch_stats={\"data_pipeline\": \"/opt/ml/input/data/train\", \"epoch\": 1, \"duration\": 93, \"num_examples\": 4, \"num_bytes\": 576000}\u001b[0m\n",
      "\u001b[34m[07/12/2020 22:28:46 INFO 139815496828736] processed a total of 18000 examples\u001b[0m\n",
      "\u001b[34m[07/12/2020 22:28:46 INFO 139815496828736] #progress_metric: host=algo-1, completed 100 % of epochs\u001b[0m\n",
      "\u001b[34m#metrics {\"Metrics\": {\"Max Batches Seen Between Resets\": {\"count\": 1, \"max\": 4, \"sum\": 4.0, \"min\": 4}, \"Number of Batches Since Last Reset\": {\"count\": 1, \"max\": 4, \"sum\": 4.0, \"min\": 4}, \"Number of Records Since Last Reset\": {\"count\": 1, \"max\": 18000, \"sum\": 18000.0, \"min\": 18000}, \"Total Batches Seen\": {\"count\": 1, \"max\": 5, \"sum\": 5.0, \"min\": 5}, \"Total Records Seen\": {\"count\": 1, \"max\": 23000, \"sum\": 23000.0, \"min\": 23000}, \"Max Records Seen Between Resets\": {\"count\": 1, \"max\": 18000, \"sum\": 18000.0, \"min\": 18000}, \"Reset Count\": {\"count\": 1, \"max\": 1, \"sum\": 1.0, \"min\": 1}}, \"EndTime\": 1594592926.887319, \"Dimensions\": {\"Host\": \"algo-1\", \"Meta\": \"training_data_iter\", \"Operation\": \"training\", \"Algorithm\": \"AWS/KMeansWebscale\", \"epoch\": 0}, \"StartTime\": 1594592926.791616}\n",
      "\u001b[0m\n",
      "\u001b[34m[07/12/2020 22:28:46 INFO 139815496828736] #throughput_metric: host=algo-1, train throughput=187806.992624 records/second\u001b[0m\n",
      "\u001b[34m[07/12/2020 22:28:46 WARNING 139815496828736] wait_for_all_workers will not sync workers since the kv store is not running distributed\u001b[0m\n",
      "\u001b[34m[07/12/2020 22:28:46 INFO 139815496828736] shrinking 100 centers into 10\u001b[0m\n",
      "\u001b[34m[07/12/2020 22:28:46 INFO 139815496828736] local kmeans attempt #0. Current mean square distance 34.969006\u001b[0m\n",
      "\u001b[34m[07/12/2020 22:28:46 INFO 139815496828736] local kmeans attempt #1. Current mean square distance 33.877674\u001b[0m\n",
      "\u001b[34m[07/12/2020 22:28:47 INFO 139815496828736] local kmeans attempt #2. Current mean square distance 34.522274\u001b[0m\n",
      "\u001b[34m[07/12/2020 22:28:47 INFO 139815496828736] local kmeans attempt #3. Current mean square distance 32.521214\u001b[0m\n",
      "\u001b[34m[07/12/2020 22:28:47 INFO 139815496828736] local kmeans attempt #4. Current mean square distance 27.955124\u001b[0m\n",
      "\u001b[34m[07/12/2020 22:28:47 INFO 139815496828736] local kmeans attempt #5. Current mean square distance 32.645138\u001b[0m\n",
      "\u001b[34m[07/12/2020 22:28:47 INFO 139815496828736] local kmeans attempt #6. Current mean square distance 29.101643\u001b[0m\n",
      "\u001b[34m[07/12/2020 22:28:47 INFO 139815496828736] local kmeans attempt #7. Current mean square distance 30.535576\u001b[0m\n",
      "\u001b[34m[07/12/2020 22:28:47 INFO 139815496828736] local kmeans attempt #8. Current mean square distance 35.061272\u001b[0m\n",
      "\u001b[34m[07/12/2020 22:28:47 INFO 139815496828736] local kmeans attempt #9. Current mean square distance 34.405739\u001b[0m\n",
      "\u001b[34m[07/12/2020 22:28:47 INFO 139815496828736] finished shrinking process. Mean Square Distance = 28\u001b[0m\n",
      "\u001b[34m[07/12/2020 22:28:47 INFO 139815496828736] #quality_metric: host=algo-1, train msd <loss>=27.9551239014\u001b[0m\n",
      "\u001b[34m[07/12/2020 22:28:47 INFO 139815496828736] compute all data-center distances: inner product took: 25.2388%, (0.025832 secs)\u001b[0m\n",
      "\u001b[34m[07/12/2020 22:28:47 INFO 139815496828736] predict compute msd took: 17.2271%, (0.017632 secs)\u001b[0m\n",
      "\u001b[34m[07/12/2020 22:28:47 INFO 139815496828736] gradient: cluster center took: 9.0802%, (0.009294 secs)\u001b[0m\n",
      "\u001b[34m[07/12/2020 22:28:47 INFO 139815496828736] gradient: cluster size  took: 8.7589%, (0.008965 secs)\u001b[0m\n",
      "\u001b[34m[07/12/2020 22:28:47 INFO 139815496828736] collect from kv store took: 8.5073%, (0.008707 secs)\u001b[0m\n",
      "\u001b[34m[07/12/2020 22:28:47 INFO 139815496828736] splitting centers key-value pair took: 8.1095%, (0.008300 secs)\u001b[0m\n",
      "\u001b[34m[07/12/2020 22:28:47 INFO 139815496828736] batch data loading with context took: 7.7624%, (0.007945 secs)\u001b[0m\n",
      "\u001b[34m[07/12/2020 22:28:47 INFO 139815496828736] gradient: one_hot took: 6.2862%, (0.006434 secs)\u001b[0m\n",
      "\u001b[34m[07/12/2020 22:28:47 INFO 139815496828736] compute all data-center distances: point norm took: 6.2476%, (0.006394 secs)\u001b[0m\n",
      "\u001b[34m[07/12/2020 22:28:47 INFO 139815496828736] update state and report convergance took: 1.9274%, (0.001973 secs)\u001b[0m\n",
      "\u001b[34m[07/12/2020 22:28:47 INFO 139815496828736] compute all data-center distances: center norm took: 0.5607%, (0.000574 secs)\u001b[0m\n",
      "\u001b[34m[07/12/2020 22:28:47 INFO 139815496828736] update set-up time took: 0.2062%, (0.000211 secs)\u001b[0m\n",
      "\u001b[34m[07/12/2020 22:28:47 INFO 139815496828736] predict minus dist took: 0.0878%, (0.000090 secs)\u001b[0m\n",
      "\u001b[34m[07/12/2020 22:28:47 INFO 139815496828736] TOTAL took: 0.102350234985\u001b[0m\n",
      "\u001b[34m[07/12/2020 22:28:47 INFO 139815496828736] Number of GPUs being used: 0\u001b[0m\n",
      "\u001b[34m#metrics {\"Metrics\": {\"finalize.time\": {\"count\": 1, \"max\": 373.93808364868164, \"sum\": 373.93808364868164, \"min\": 373.93808364868164}, \"initialize.time\": {\"count\": 1, \"max\": 44.13199424743652, \"sum\": 44.13199424743652, \"min\": 44.13199424743652}, \"model.serialize.time\": {\"count\": 1, \"max\": 0.14209747314453125, \"sum\": 0.14209747314453125, \"min\": 0.14209747314453125}, \"update.time\": {\"count\": 1, \"max\": 95.50809860229492, \"sum\": 95.50809860229492, \"min\": 95.50809860229492}, \"epochs\": {\"count\": 1, \"max\": 1, \"sum\": 1.0, \"min\": 1}, \"state.serialize.time\": {\"count\": 1, \"max\": 1.8420219421386719, \"sum\": 1.8420219421386719, \"min\": 1.8420219421386719}, \"_shrink.time\": {\"count\": 1, \"max\": 372.1039295196533, \"sum\": 372.1039295196533, \"min\": 372.1039295196533}}, \"EndTime\": 1594592927.263714, \"Dimensions\": {\"Host\": \"algo-1\", \"Operation\": \"training\", \"Algorithm\": \"AWS/KMeansWebscale\"}, \"StartTime\": 1594592926.738984}\n",
      "\u001b[0m\n",
      "\u001b[34m[07/12/2020 22:28:47 INFO 139815496828736] Test data is not provided.\u001b[0m\n",
      "\u001b[34m#metrics {\"Metrics\": {\"totaltime\": {\"count\": 1, \"max\": 595.7379341125488, \"sum\": 595.7379341125488, \"min\": 595.7379341125488}, \"setuptime\": {\"count\": 1, \"max\": 17.11893081665039, \"sum\": 17.11893081665039, \"min\": 17.11893081665039}}, \"EndTime\": 1594592927.264085, \"Dimensions\": {\"Host\": \"algo-1\", \"Operation\": \"training\", \"Algorithm\": \"AWS/KMeansWebscale\"}, \"StartTime\": 1594592927.263814}\n",
      "\u001b[0m\n",
      "\n",
      "2020-07-12 22:28:55 Uploading - Uploading generated training model\n",
      "2020-07-12 22:28:55 Completed - Training job completed\n",
      "Training seconds: 51\n",
      "Billable seconds: 51\n",
      "CPU times: user 832 ms, sys: 15.1 ms, total: 847 ms\n",
      "Wall time: 4min 12s\n"
     ]
    }
   ],
   "source": [
    "%%time\n",
    "km.fit(km.record_set(data_train), job_name=job_name)"
   ]
  },
  {
   "cell_type": "code",
   "execution_count": 17,
   "metadata": {},
   "outputs": [
    {
     "data": {
      "text/plain": [
       "'ml-lab-ufo-elly'"
      ]
     },
     "execution_count": 17,
     "metadata": {},
     "output_type": "execute_result"
    }
   ],
   "source": [
    "bucket"
   ]
  },
  {
   "cell_type": "code",
   "execution_count": 18,
   "metadata": {},
   "outputs": [
    {
     "data": {
      "text/plain": [
       "2304"
      ]
     },
     "execution_count": 18,
     "metadata": {},
     "output_type": "execute_result"
    }
   ],
   "source": [
    "import os\n",
    "\n",
    "model_key ='mdole-artifacts/'+ job_name + '/output/model.tar.gz'\n",
    "\n",
    "boto3.resource('s3').Bucket(bucket).download_file(model_key, 'model.tar.gz')\n",
    "os.system('tar -zxvf model.tar.gz')\n",
    "os.system('unzip model_algo-1')"
   ]
  },
  {
   "cell_type": "code",
   "execution_count": 20,
   "metadata": {},
   "outputs": [
    {
     "name": "stdout",
     "output_type": "stream",
     "text": [
      "Collecting mxnet\n",
      "  Downloading mxnet-1.6.0-py2.py3-none-any.whl (68.7 MB)\n",
      "\u001b[K     |████████████████████████████████| 68.7 MB 58 kB/s s eta 0:00:01\n",
      "\u001b[?25hCollecting graphviz<0.9.0,>=0.8.1\n",
      "  Downloading graphviz-0.8.4-py2.py3-none-any.whl (16 kB)\n",
      "Requirement already satisfied: numpy<2.0.0,>1.16.0 in /home/ec2-user/anaconda3/envs/python3/lib/python3.6/site-packages (from mxnet) (1.18.1)\n",
      "Requirement already satisfied: requests<3,>=2.20.0 in /home/ec2-user/anaconda3/envs/python3/lib/python3.6/site-packages (from mxnet) (2.23.0)\n",
      "Requirement already satisfied: certifi>=2017.4.17 in /home/ec2-user/anaconda3/envs/python3/lib/python3.6/site-packages (from requests<3,>=2.20.0->mxnet) (2020.4.5.2)\n",
      "Requirement already satisfied: idna<3,>=2.5 in /home/ec2-user/anaconda3/envs/python3/lib/python3.6/site-packages (from requests<3,>=2.20.0->mxnet) (2.9)\n",
      "Requirement already satisfied: chardet<4,>=3.0.2 in /home/ec2-user/anaconda3/envs/python3/lib/python3.6/site-packages (from requests<3,>=2.20.0->mxnet) (3.0.4)\n",
      "Requirement already satisfied: urllib3!=1.25.0,!=1.25.1,<1.26,>=1.21.1 in /home/ec2-user/anaconda3/envs/python3/lib/python3.6/site-packages (from requests<3,>=2.20.0->mxnet) (1.25.8)\n",
      "Installing collected packages: graphviz, mxnet\n",
      "Successfully installed graphviz-0.8.4 mxnet-1.6.0\n",
      "\u001b[33mWARNING: You are using pip version 20.0.2; however, version 20.1.1 is available.\n",
      "You should consider upgrading via the '/home/ec2-user/anaconda3/envs/python3/bin/python -m pip install --upgrade pip' command.\u001b[0m\n"
     ]
    }
   ],
   "source": [
    "!pip install mxnet"
   ]
  },
  {
   "cell_type": "code",
   "execution_count": 21,
   "metadata": {},
   "outputs": [],
   "source": [
    "import mxnet as mx\n",
    "Kmeans_model_params = mx.ndarray.load('model_algo-1')"
   ]
  },
  {
   "cell_type": "code",
   "execution_count": 22,
   "metadata": {},
   "outputs": [
    {
     "data": {
      "text/html": [
       "<div>\n",
       "<style scoped>\n",
       "    .dataframe tbody tr th:only-of-type {\n",
       "        vertical-align: middle;\n",
       "    }\n",
       "\n",
       "    .dataframe tbody tr th {\n",
       "        vertical-align: top;\n",
       "    }\n",
       "\n",
       "    .dataframe thead th {\n",
       "        text-align: right;\n",
       "    }\n",
       "</style>\n",
       "<table border=\"1\" class=\"dataframe\">\n",
       "  <thead>\n",
       "    <tr style=\"text-align: right;\">\n",
       "      <th></th>\n",
       "      <th>latitude</th>\n",
       "      <th>longitude</th>\n",
       "    </tr>\n",
       "  </thead>\n",
       "  <tbody>\n",
       "    <tr>\n",
       "      <th>0</th>\n",
       "      <td>46.918221</td>\n",
       "      <td>-120.526367</td>\n",
       "    </tr>\n",
       "    <tr>\n",
       "      <th>1</th>\n",
       "      <td>52.126045</td>\n",
       "      <td>0.378868</td>\n",
       "    </tr>\n",
       "    <tr>\n",
       "      <th>2</th>\n",
       "      <td>30.734335</td>\n",
       "      <td>-81.900154</td>\n",
       "    </tr>\n",
       "    <tr>\n",
       "      <th>3</th>\n",
       "      <td>41.393799</td>\n",
       "      <td>-74.457085</td>\n",
       "    </tr>\n",
       "    <tr>\n",
       "      <th>4</th>\n",
       "      <td>-10.968700</td>\n",
       "      <td>128.140167</td>\n",
       "    </tr>\n",
       "    <tr>\n",
       "      <th>5</th>\n",
       "      <td>35.291668</td>\n",
       "      <td>-98.063751</td>\n",
       "    </tr>\n",
       "    <tr>\n",
       "      <th>6</th>\n",
       "      <td>35.608452</td>\n",
       "      <td>-117.294327</td>\n",
       "    </tr>\n",
       "    <tr>\n",
       "      <th>7</th>\n",
       "      <td>21.187809</td>\n",
       "      <td>47.924477</td>\n",
       "    </tr>\n",
       "    <tr>\n",
       "      <th>8</th>\n",
       "      <td>41.041370</td>\n",
       "      <td>-86.496300</td>\n",
       "    </tr>\n",
       "    <tr>\n",
       "      <th>9</th>\n",
       "      <td>43.195156</td>\n",
       "      <td>-153.404190</td>\n",
       "    </tr>\n",
       "  </tbody>\n",
       "</table>\n",
       "</div>"
      ],
      "text/plain": [
       "    latitude   longitude\n",
       "0  46.918221 -120.526367\n",
       "1  52.126045    0.378868\n",
       "2  30.734335  -81.900154\n",
       "3  41.393799  -74.457085\n",
       "4 -10.968700  128.140167\n",
       "5  35.291668  -98.063751\n",
       "6  35.608452 -117.294327\n",
       "7  21.187809   47.924477\n",
       "8  41.041370  -86.496300\n",
       "9  43.195156 -153.404190"
      ]
     },
     "execution_count": 22,
     "metadata": {},
     "output_type": "execute_result"
    }
   ],
   "source": [
    "cluster_centroids_kmeans = pd.DataFrame(Kmeans_model_params[0].asnumpy())\n",
    "cluster_centroids_kmeans.columns=df_geo.columns\n",
    "cluster_centroids_kmeans"
   ]
  },
  {
   "cell_type": "code",
   "execution_count": 25,
   "metadata": {},
   "outputs": [],
   "source": [
    "from io import StringIO"
   ]
  },
  {
   "cell_type": "code",
   "execution_count": 29,
   "metadata": {},
   "outputs": [
    {
     "data": {
      "text/plain": [
       "{'ResponseMetadata': {'RequestId': '07ECFC5B642294C7',\n",
       "  'HostId': 'YygLvCRT/J4AZUTEzriktCLl5t3eQp2eFtxqFyho/5TGGH7kJESlzDc3TJpNbDw3//4QdMznkTg=',\n",
       "  'HTTPStatusCode': 200,\n",
       "  'HTTPHeaders': {'x-amz-id-2': 'YygLvCRT/J4AZUTEzriktCLl5t3eQp2eFtxqFyho/5TGGH7kJESlzDc3TJpNbDw3//4QdMznkTg=',\n",
       "   'x-amz-request-id': '07ECFC5B642294C7',\n",
       "   'date': 'Wed, 08 Jul 2020 00:00:10 GMT',\n",
       "   'etag': '\"04bdaf2b43f4cb94cd115e1595e73101\"',\n",
       "   'content-length': '0',\n",
       "   'server': 'AmazonS3'},\n",
       "  'RetryAttempts': 0},\n",
       " 'ETag': '\"04bdaf2b43f4cb94cd115e1595e73101\"'}"
      ]
     },
     "execution_count": 29,
     "metadata": {},
     "output_type": "execute_result"
    }
   ],
   "source": [
    "csv_buffer = StringIO()\n",
    "cluster_centroids_kmeans.to_csv(csv_buffer, index = False)\n",
    "s3_resource = boto3.resource('s3')\n",
    "s3_resource.Object(bucket, 'results/ten_locations_kmeans.csv').put(Body=csv_buffer.getvalue())"
   ]
  },
  {
   "cell_type": "code",
   "execution_count": null,
   "metadata": {},
   "outputs": [],
   "source": []
  }
 ],
 "metadata": {
  "kernelspec": {
   "display_name": "conda_python3",
   "language": "python",
   "name": "conda_python3"
  },
  "language_info": {
   "codemirror_mode": {
    "name": "ipython",
    "version": 3
   },
   "file_extension": ".py",
   "mimetype": "text/x-python",
   "name": "python",
   "nbconvert_exporter": "python",
   "pygments_lexer": "ipython3",
   "version": "3.6.10"
  }
 },
 "nbformat": 4,
 "nbformat_minor": 4
}
